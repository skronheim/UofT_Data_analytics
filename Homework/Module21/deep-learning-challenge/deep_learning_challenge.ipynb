{
  "cells": [
    {
      "attachments": {},
      "cell_type": "markdown",
      "metadata": {
        "id": "SBxQwrf7Rxhp"
      },
      "source": [
        "## Preprocessing"
      ]
    },
    {
      "cell_type": "code",
      "execution_count": 1,
      "metadata": {
        "colab": {
          "base_uri": "https://localhost:8080/",
          "height": 496
        },
        "id": "AVjY6hkqRxhr",
        "outputId": "1654c4cf-d3cb-45c3-ee67-122fa0efeb22"
      },
      "outputs": [
        {
          "data": {
            "text/html": [
              "<div>\n",
              "<style scoped>\n",
              "    .dataframe tbody tr th:only-of-type {\n",
              "        vertical-align: middle;\n",
              "    }\n",
              "\n",
              "    .dataframe tbody tr th {\n",
              "        vertical-align: top;\n",
              "    }\n",
              "\n",
              "    .dataframe thead th {\n",
              "        text-align: right;\n",
              "    }\n",
              "</style>\n",
              "<table border=\"1\" class=\"dataframe\">\n",
              "  <thead>\n",
              "    <tr style=\"text-align: right;\">\n",
              "      <th></th>\n",
              "      <th>EIN</th>\n",
              "      <th>NAME</th>\n",
              "      <th>APPLICATION_TYPE</th>\n",
              "      <th>AFFILIATION</th>\n",
              "      <th>CLASSIFICATION</th>\n",
              "      <th>USE_CASE</th>\n",
              "      <th>ORGANIZATION</th>\n",
              "      <th>STATUS</th>\n",
              "      <th>INCOME_AMT</th>\n",
              "      <th>SPECIAL_CONSIDERATIONS</th>\n",
              "      <th>ASK_AMT</th>\n",
              "      <th>IS_SUCCESSFUL</th>\n",
              "    </tr>\n",
              "  </thead>\n",
              "  <tbody>\n",
              "    <tr>\n",
              "      <th>0</th>\n",
              "      <td>10520599</td>\n",
              "      <td>BLUE KNIGHTS MOTORCYCLE CLUB</td>\n",
              "      <td>T10</td>\n",
              "      <td>Independent</td>\n",
              "      <td>C1000</td>\n",
              "      <td>ProductDev</td>\n",
              "      <td>Association</td>\n",
              "      <td>1</td>\n",
              "      <td>0</td>\n",
              "      <td>N</td>\n",
              "      <td>5000</td>\n",
              "      <td>1</td>\n",
              "    </tr>\n",
              "    <tr>\n",
              "      <th>1</th>\n",
              "      <td>10531628</td>\n",
              "      <td>AMERICAN CHESAPEAKE CLUB CHARITABLE TR</td>\n",
              "      <td>T3</td>\n",
              "      <td>Independent</td>\n",
              "      <td>C2000</td>\n",
              "      <td>Preservation</td>\n",
              "      <td>Co-operative</td>\n",
              "      <td>1</td>\n",
              "      <td>1-9999</td>\n",
              "      <td>N</td>\n",
              "      <td>108590</td>\n",
              "      <td>1</td>\n",
              "    </tr>\n",
              "    <tr>\n",
              "      <th>2</th>\n",
              "      <td>10547893</td>\n",
              "      <td>ST CLOUD PROFESSIONAL FIREFIGHTERS</td>\n",
              "      <td>T5</td>\n",
              "      <td>CompanySponsored</td>\n",
              "      <td>C3000</td>\n",
              "      <td>ProductDev</td>\n",
              "      <td>Association</td>\n",
              "      <td>1</td>\n",
              "      <td>0</td>\n",
              "      <td>N</td>\n",
              "      <td>5000</td>\n",
              "      <td>0</td>\n",
              "    </tr>\n",
              "    <tr>\n",
              "      <th>3</th>\n",
              "      <td>10553066</td>\n",
              "      <td>SOUTHSIDE ATHLETIC ASSOCIATION</td>\n",
              "      <td>T3</td>\n",
              "      <td>CompanySponsored</td>\n",
              "      <td>C2000</td>\n",
              "      <td>Preservation</td>\n",
              "      <td>Trust</td>\n",
              "      <td>1</td>\n",
              "      <td>10000-24999</td>\n",
              "      <td>N</td>\n",
              "      <td>6692</td>\n",
              "      <td>1</td>\n",
              "    </tr>\n",
              "    <tr>\n",
              "      <th>4</th>\n",
              "      <td>10556103</td>\n",
              "      <td>GENETIC RESEARCH INSTITUTE OF THE DESERT</td>\n",
              "      <td>T3</td>\n",
              "      <td>Independent</td>\n",
              "      <td>C1000</td>\n",
              "      <td>Heathcare</td>\n",
              "      <td>Trust</td>\n",
              "      <td>1</td>\n",
              "      <td>100000-499999</td>\n",
              "      <td>N</td>\n",
              "      <td>142590</td>\n",
              "      <td>1</td>\n",
              "    </tr>\n",
              "  </tbody>\n",
              "</table>\n",
              "</div>"
            ],
            "text/plain": [
              "        EIN                                      NAME APPLICATION_TYPE  \\\n",
              "0  10520599              BLUE KNIGHTS MOTORCYCLE CLUB              T10   \n",
              "1  10531628    AMERICAN CHESAPEAKE CLUB CHARITABLE TR               T3   \n",
              "2  10547893        ST CLOUD PROFESSIONAL FIREFIGHTERS               T5   \n",
              "3  10553066            SOUTHSIDE ATHLETIC ASSOCIATION               T3   \n",
              "4  10556103  GENETIC RESEARCH INSTITUTE OF THE DESERT               T3   \n",
              "\n",
              "        AFFILIATION CLASSIFICATION      USE_CASE  ORGANIZATION  STATUS  \\\n",
              "0       Independent          C1000    ProductDev   Association       1   \n",
              "1       Independent          C2000  Preservation  Co-operative       1   \n",
              "2  CompanySponsored          C3000    ProductDev   Association       1   \n",
              "3  CompanySponsored          C2000  Preservation         Trust       1   \n",
              "4       Independent          C1000     Heathcare         Trust       1   \n",
              "\n",
              "      INCOME_AMT SPECIAL_CONSIDERATIONS  ASK_AMT  IS_SUCCESSFUL  \n",
              "0              0                      N     5000              1  \n",
              "1         1-9999                      N   108590              1  \n",
              "2              0                      N     5000              0  \n",
              "3    10000-24999                      N     6692              1  \n",
              "4  100000-499999                      N   142590              1  "
            ]
          },
          "execution_count": 1,
          "metadata": {},
          "output_type": "execute_result"
        }
      ],
      "source": [
        "# Import our dependencies\n",
        "from sklearn.model_selection import train_test_split\n",
        "from sklearn.preprocessing import StandardScaler\n",
        "import pandas as pd\n",
        "import tensorflow as tf\n",
        "\n",
        "#  Import and read the charity_data.csv.\n",
        "import pandas as pd \n",
        "application_df = pd.read_csv(\"https://static.bc-edx.com/data/dl-1-2/m21/lms/starter/charity_data.csv\")\n",
        "application_df.head()"
      ]
    },
    {
      "attachments": {},
      "cell_type": "markdown",
      "metadata": {
        "id": "n-PeoeeOgJ0f"
      },
      "source": [
        "NOTE: The target variable is the \"IS_SUCCESSFUL\" column, while the feature variables are every other column in the dataframe except \"EIN\" and \"NAME\""
      ]
    },
    {
      "cell_type": "code",
      "execution_count": 2,
      "metadata": {
        "id": "dmYMTFt4Rxhs"
      },
      "outputs": [],
      "source": [
        "# Drop the non-beneficial ID columns, 'EIN' and 'NAME'.\n",
        "application_df = application_df.drop(columns=[\"EIN\", \"NAME\"])"
      ]
    },
    {
      "cell_type": "code",
      "execution_count": 3,
      "metadata": {
        "colab": {
          "base_uri": "https://localhost:8080/"
        },
        "id": "gbJTZHE7Rxht",
        "outputId": "7a10e564-e59f-450d-8de1-cc0bc2359548"
      },
      "outputs": [
        {
          "data": {
            "text/plain": [
              "APPLICATION_TYPE            17\n",
              "AFFILIATION                  6\n",
              "CLASSIFICATION              71\n",
              "USE_CASE                     5\n",
              "ORGANIZATION                 4\n",
              "STATUS                       2\n",
              "INCOME_AMT                   9\n",
              "SPECIAL_CONSIDERATIONS       2\n",
              "ASK_AMT                   8747\n",
              "IS_SUCCESSFUL                2\n",
              "dtype: int64"
            ]
          },
          "execution_count": 3,
          "metadata": {},
          "output_type": "execute_result"
        }
      ],
      "source": [
        "# Determine the number of unique values in each column.\n",
        "application_df.nunique()"
      ]
    },
    {
      "cell_type": "code",
      "execution_count": 4,
      "metadata": {
        "colab": {
          "base_uri": "https://localhost:8080/"
        },
        "id": "3orgbX4xRxht",
        "outputId": "26e74668-b51e-49c5-a83d-000937ae8998"
      },
      "outputs": [
        {
          "data": {
            "text/plain": [
              "T3     27037\n",
              "T4      1542\n",
              "T6      1216\n",
              "T5      1173\n",
              "T19     1065\n",
              "T8       737\n",
              "T7       725\n",
              "T10      528\n",
              "T9       156\n",
              "T13       66\n",
              "T12       27\n",
              "T2        16\n",
              "T14        3\n",
              "T25        3\n",
              "T15        2\n",
              "T29        2\n",
              "T17        1\n",
              "Name: APPLICATION_TYPE, dtype: int64"
            ]
          },
          "execution_count": 4,
          "metadata": {},
          "output_type": "execute_result"
        }
      ],
      "source": [
        "# Look at APPLICATION_TYPE value counts for binning\n",
        "application_counts = application_df[\"APPLICATION_TYPE\"].value_counts()\n",
        "application_counts"
      ]
    },
    {
      "cell_type": "code",
      "execution_count": 5,
      "metadata": {
        "colab": {
          "base_uri": "https://localhost:8080/"
        },
        "id": "bxGNRXFSRxht",
        "outputId": "900deced-f3b6-4538-db44-05f59a7996f1"
      },
      "outputs": [
        {
          "data": {
            "text/plain": [
              "T3       27037\n",
              "T4        1542\n",
              "T6        1216\n",
              "T5        1173\n",
              "T19       1065\n",
              "T8         737\n",
              "T7         725\n",
              "T10        528\n",
              "Other      276\n",
              "Name: APPLICATION_TYPE, dtype: int64"
            ]
          },
          "execution_count": 5,
          "metadata": {},
          "output_type": "execute_result"
        }
      ],
      "source": [
        "# Choose a cutoff value and create a list of application types to be replaced\n",
        "# use the variable name `application_types_to_replace`\n",
        "application_types_to_replace = [app_type for app_type in application_counts.index if application_counts[app_type] < 200]\n",
        "\n",
        "# Replace in dataframe\n",
        "for app in application_types_to_replace:\n",
        "    application_df['APPLICATION_TYPE'] = application_df['APPLICATION_TYPE'].replace(app,\"Other\")\n",
        "\n",
        "# Check to make sure binning was successful\n",
        "application_df['APPLICATION_TYPE'].value_counts()"
      ]
    },
    {
      "cell_type": "code",
      "execution_count": 6,
      "metadata": {
        "colab": {
          "base_uri": "https://localhost:8080/"
        },
        "id": "S3nN_h8LRxhu",
        "outputId": "fd10cdef-59e9-482c-9671-f33c1b1e436d"
      },
      "outputs": [
        {
          "data": {
            "text/plain": [
              "C1000    17326\n",
              "C2000     6074\n",
              "C1200     4837\n",
              "C3000     1918\n",
              "C2100     1883\n",
              "         ...  \n",
              "C1820        1\n",
              "C8210        1\n",
              "C5200        1\n",
              "C1370        1\n",
              "C2561        1\n",
              "Name: CLASSIFICATION, Length: 71, dtype: int64"
            ]
          },
          "execution_count": 6,
          "metadata": {},
          "output_type": "execute_result"
        }
      ],
      "source": [
        "# Look at CLASSIFICATION value counts for binning\n",
        "classification_counts = application_df[\"CLASSIFICATION\"].value_counts()\n",
        "classification_counts"
      ]
    },
    {
      "cell_type": "code",
      "execution_count": 7,
      "metadata": {
        "colab": {
          "base_uri": "https://localhost:8080/"
        },
        "id": "w4eh_GNERxhu",
        "outputId": "6e96d653-f3b1-4821-f4ab-3cdbb2c469ad"
      },
      "outputs": [
        {
          "data": {
            "text/plain": [
              "C1000    17326\n",
              "C2000     6074\n",
              "C1200     4837\n",
              "C3000     1918\n",
              "C2100     1883\n",
              "C7000      777\n",
              "C1700      287\n",
              "C4000      194\n",
              "C5000      116\n",
              "C1270      114\n",
              "C2700      104\n",
              "C2800       95\n",
              "C7100       75\n",
              "C1300       58\n",
              "C1280       50\n",
              "C1230       36\n",
              "C1400       34\n",
              "C2300       32\n",
              "C7200       32\n",
              "C1240       30\n",
              "C8000       20\n",
              "C7120       18\n",
              "C1500       16\n",
              "C1800       15\n",
              "C6000       15\n",
              "C1250       14\n",
              "C8200       11\n",
              "C1278       10\n",
              "C1238       10\n",
              "C1235        9\n",
              "C1237        9\n",
              "C7210        7\n",
              "C1720        6\n",
              "C4100        6\n",
              "C2400        6\n",
              "C1257        5\n",
              "C1600        5\n",
              "C2710        3\n",
              "C0           3\n",
              "C1260        3\n",
              "C1256        2\n",
              "C1246        2\n",
              "C1267        2\n",
              "C3200        2\n",
              "C1234        2\n",
              "Name: CLASSIFICATION, dtype: int64"
            ]
          },
          "execution_count": 7,
          "metadata": {},
          "output_type": "execute_result"
        }
      ],
      "source": [
        "# You may find it helpful to look at CLASSIFICATION value counts >1\n",
        "classification_counts_greater_than_1 = classification_counts.loc[classification_counts > 1]\n",
        "classification_counts_greater_than_1"
      ]
    },
    {
      "cell_type": "code",
      "execution_count": 8,
      "metadata": {
        "colab": {
          "base_uri": "https://localhost:8080/"
        },
        "id": "52Djz6nrRxhu",
        "outputId": "518edc1a-f624-4df1-f214-a09a4194a9cd"
      },
      "outputs": [
        {
          "data": {
            "text/plain": [
              "C1000    17326\n",
              "C2000     6074\n",
              "C1200     4837\n",
              "Other     2261\n",
              "C3000     1918\n",
              "C2100     1883\n",
              "Name: CLASSIFICATION, dtype: int64"
            ]
          },
          "execution_count": 8,
          "metadata": {},
          "output_type": "execute_result"
        }
      ],
      "source": [
        "# Choose a cutoff value and create a list of classifications to be replaced\n",
        "# use the variable name `classifications_to_replace`\n",
        "classifications_to_replace = [classification for classification in classification_counts.index if classification_counts[classification] < 1000]\n",
        "\n",
        "# Replace in dataframe\n",
        "for cls in classifications_to_replace:\n",
        "    application_df['CLASSIFICATION'] = application_df['CLASSIFICATION'].replace(cls,\"Other\")\n",
        "    \n",
        "# Check to make sure binning was successful\n",
        "application_df['CLASSIFICATION'].value_counts()"
      ]
    },
    {
      "cell_type": "code",
      "execution_count": 9,
      "metadata": {
        "colab": {
          "base_uri": "https://localhost:8080/"
        },
        "id": "P5SaN377Rxhv",
        "outputId": "71122cee-f6ff-45d2-8071-37c6d5ad6fdd"
      },
      "outputs": [
        {
          "data": {
            "text/plain": [
              "(34299, 44)"
            ]
          },
          "execution_count": 9,
          "metadata": {},
          "output_type": "execute_result"
        }
      ],
      "source": [
        "# Convert categorical data to numeric with `pd.get_dummies`\n",
        "processed_df = pd.get_dummies(application_df, prefix=['APPLICATION_TYPE', 'AFFILIATION', 'CLASSIFICATION', 'USE_CASE', 'ORGANIZATION', 'INCOME_AMT', 'SPECIAL_CONSIDERATIONS'])\n",
        "processed_df.shape"
      ]
    },
    {
      "cell_type": "code",
      "execution_count": 10,
      "metadata": {
        "id": "MLvwKwYZRxhv"
      },
      "outputs": [],
      "source": [
        "# Split our preprocessed data into our features and target arrays\n",
        "X = processed_df.drop(columns=\"IS_SUCCESSFUL\") \n",
        "y = processed_df[\"IS_SUCCESSFUL\"]\n",
        "\n",
        "# Split the preprocessed data into a training and testing dataset\n",
        "X_train, X_test, y_train, y_test = train_test_split(X, y, random_state=1)"
      ]
    },
    {
      "cell_type": "code",
      "execution_count": 11,
      "metadata": {
        "id": "A3Ek2WGCRxhv"
      },
      "outputs": [],
      "source": [
        "# Create a StandardScaler instance\n",
        "scaler = StandardScaler()\n",
        "\n",
        "# Fit the StandardScaler\n",
        "X_scaler = scaler.fit(X_train)\n",
        "\n",
        "# Scale the data\n",
        "X_train_scaled = X_scaler.transform(X_train)\n",
        "X_test_scaled = X_scaler.transform(X_test)"
      ]
    },
    {
      "attachments": {},
      "cell_type": "markdown",
      "metadata": {
        "id": "70k_svamRxhv"
      },
      "source": [
        "## Compile, Train and Evaluate the Model"
      ]
    },
    {
      "cell_type": "code",
      "execution_count": 12,
      "metadata": {
        "colab": {
          "base_uri": "https://localhost:8080/"
        },
        "id": "LB0O1I85Rxhw",
        "outputId": "f0f59fbb-2176-4bc5-9d94-42bb1156a867"
      },
      "outputs": [
        {
          "name": "stdout",
          "output_type": "stream",
          "text": [
            "Model: \"sequential\"\n",
            "_________________________________________________________________\n",
            " Layer (type)                Output Shape              Param #   \n",
            "=================================================================\n",
            " dense (Dense)               (None, 80)                3520      \n",
            "                                                                 \n",
            " dense_1 (Dense)             (None, 30)                2430      \n",
            "                                                                 \n",
            " dense_2 (Dense)             (None, 1)                 31        \n",
            "                                                                 \n",
            "=================================================================\n",
            "Total params: 5,981\n",
            "Trainable params: 5,981\n",
            "Non-trainable params: 0\n",
            "_________________________________________________________________\n"
          ]
        }
      ],
      "source": [
        "# Define the model - deep neural net, i.e., the number of input features and hidden nodes for each layer.\n",
        "nn = tf.keras.models.Sequential()\n",
        "\n",
        "# First hidden layer\n",
        "nn.add(tf.keras.layers.Dense(units=80, activation=\"relu\", input_dim=43))\n",
        "\n",
        "# Second hidden layer\n",
        "nn.add(tf.keras.layers.Dense(units=30, activation=\"relu\"))\n",
        "\n",
        "# Output layer\n",
        "nn.add(tf.keras.layers.Dense(units=1, activation=\"sigmoid\"))\n",
        "\n",
        "# Check the structure of the model\n",
        "nn.summary()"
      ]
    },
    {
      "cell_type": "code",
      "execution_count": 13,
      "metadata": {
        "id": "RRjtg5Z_Rxhw"
      },
      "outputs": [],
      "source": [
        "# Compile the model\n",
        "nn.compile(loss=\"binary_crossentropy\", optimizer=\"adam\", metrics=[\"accuracy\"])"
      ]
    },
    {
      "cell_type": "code",
      "execution_count": 14,
      "metadata": {
        "colab": {
          "base_uri": "https://localhost:8080/"
        },
        "id": "THBPxy4ERxhw",
        "outputId": "59e6f8a8-d042-4eec-b9f9-128badbe0017"
      },
      "outputs": [
        {
          "name": "stdout",
          "output_type": "stream",
          "text": [
            "Epoch 1/100\n",
            "804/804 [==============================] - 1s 678us/step - loss: 0.5725 - accuracy: 0.7213\n",
            "Epoch 2/100\n",
            "804/804 [==============================] - 1s 682us/step - loss: 0.5567 - accuracy: 0.7299\n",
            "Epoch 3/100\n",
            "804/804 [==============================] - 1s 668us/step - loss: 0.5529 - accuracy: 0.7295\n",
            "Epoch 4/100\n",
            "804/804 [==============================] - 1s 689us/step - loss: 0.5511 - accuracy: 0.7303\n",
            "Epoch 5/100\n",
            "804/804 [==============================] - 1s 696us/step - loss: 0.5503 - accuracy: 0.7301\n",
            "Epoch 6/100\n",
            "804/804 [==============================] - 1s 669us/step - loss: 0.5490 - accuracy: 0.7316\n",
            "Epoch 7/100\n",
            "804/804 [==============================] - 1s 672us/step - loss: 0.5477 - accuracy: 0.7337\n",
            "Epoch 8/100\n",
            "804/804 [==============================] - 1s 659us/step - loss: 0.5475 - accuracy: 0.7330\n",
            "Epoch 9/100\n",
            "804/804 [==============================] - 1s 659us/step - loss: 0.5472 - accuracy: 0.7326\n",
            "Epoch 10/100\n",
            "804/804 [==============================] - 1s 681us/step - loss: 0.5462 - accuracy: 0.7335\n",
            "Epoch 11/100\n",
            "804/804 [==============================] - 1s 650us/step - loss: 0.5461 - accuracy: 0.7337\n",
            "Epoch 12/100\n",
            "804/804 [==============================] - 1s 650us/step - loss: 0.5454 - accuracy: 0.7345\n",
            "Epoch 13/100\n",
            "804/804 [==============================] - 1s 652us/step - loss: 0.5451 - accuracy: 0.7343\n",
            "Epoch 14/100\n",
            "804/804 [==============================] - 1s 656us/step - loss: 0.5447 - accuracy: 0.7352\n",
            "Epoch 15/100\n",
            "804/804 [==============================] - 1s 654us/step - loss: 0.5442 - accuracy: 0.7336\n",
            "Epoch 16/100\n",
            "804/804 [==============================] - 1s 670us/step - loss: 0.5442 - accuracy: 0.7352\n",
            "Epoch 17/100\n",
            "804/804 [==============================] - 1s 661us/step - loss: 0.5442 - accuracy: 0.7352\n",
            "Epoch 18/100\n",
            "804/804 [==============================] - 1s 670us/step - loss: 0.5438 - accuracy: 0.7346\n",
            "Epoch 19/100\n",
            "804/804 [==============================] - 1s 651us/step - loss: 0.5431 - accuracy: 0.7355\n",
            "Epoch 20/100\n",
            "804/804 [==============================] - 1s 665us/step - loss: 0.5429 - accuracy: 0.7361\n",
            "Epoch 21/100\n",
            "804/804 [==============================] - 1s 674us/step - loss: 0.5430 - accuracy: 0.7347\n",
            "Epoch 22/100\n",
            "804/804 [==============================] - 1s 674us/step - loss: 0.5428 - accuracy: 0.7353\n",
            "Epoch 23/100\n",
            "804/804 [==============================] - 1s 657us/step - loss: 0.5423 - accuracy: 0.7371\n",
            "Epoch 24/100\n",
            "804/804 [==============================] - 1s 660us/step - loss: 0.5415 - accuracy: 0.7360\n",
            "Epoch 25/100\n",
            "804/804 [==============================] - 1s 649us/step - loss: 0.5419 - accuracy: 0.7358\n",
            "Epoch 26/100\n",
            "804/804 [==============================] - 1s 676us/step - loss: 0.5414 - accuracy: 0.7365\n",
            "Epoch 27/100\n",
            "804/804 [==============================] - 1s 654us/step - loss: 0.5414 - accuracy: 0.7364\n",
            "Epoch 28/100\n",
            "804/804 [==============================] - 1s 659us/step - loss: 0.5408 - accuracy: 0.7362\n",
            "Epoch 29/100\n",
            "804/804 [==============================] - 1s 650us/step - loss: 0.5406 - accuracy: 0.7359\n",
            "Epoch 30/100\n",
            "804/804 [==============================] - 1s 669us/step - loss: 0.5410 - accuracy: 0.7360\n",
            "Epoch 31/100\n",
            "804/804 [==============================] - 1s 659us/step - loss: 0.5410 - accuracy: 0.7361\n",
            "Epoch 32/100\n",
            "804/804 [==============================] - 1s 682us/step - loss: 0.5406 - accuracy: 0.7361\n",
            "Epoch 33/100\n",
            "804/804 [==============================] - 1s 649us/step - loss: 0.5409 - accuracy: 0.7371\n",
            "Epoch 34/100\n",
            "804/804 [==============================] - 1s 649us/step - loss: 0.5403 - accuracy: 0.7366\n",
            "Epoch 35/100\n",
            "804/804 [==============================] - 1s 665us/step - loss: 0.5404 - accuracy: 0.7372\n",
            "Epoch 36/100\n",
            "804/804 [==============================] - 1s 661us/step - loss: 0.5403 - accuracy: 0.7369\n",
            "Epoch 37/100\n",
            "804/804 [==============================] - 1s 643us/step - loss: 0.5398 - accuracy: 0.7373\n",
            "Epoch 38/100\n",
            "804/804 [==============================] - 1s 648us/step - loss: 0.5400 - accuracy: 0.7370\n",
            "Epoch 39/100\n",
            "804/804 [==============================] - 1s 643us/step - loss: 0.5402 - accuracy: 0.7381\n",
            "Epoch 40/100\n",
            "804/804 [==============================] - 1s 663us/step - loss: 0.5395 - accuracy: 0.7392\n",
            "Epoch 41/100\n",
            "804/804 [==============================] - 1s 655us/step - loss: 0.5392 - accuracy: 0.7369\n",
            "Epoch 42/100\n",
            "804/804 [==============================] - 1s 653us/step - loss: 0.5396 - accuracy: 0.7373\n",
            "Epoch 43/100\n",
            "804/804 [==============================] - 1s 663us/step - loss: 0.5395 - accuracy: 0.7367\n",
            "Epoch 44/100\n",
            "804/804 [==============================] - 1s 659us/step - loss: 0.5391 - accuracy: 0.7383\n",
            "Epoch 45/100\n",
            "804/804 [==============================] - 1s 680us/step - loss: 0.5390 - accuracy: 0.7378\n",
            "Epoch 46/100\n",
            "804/804 [==============================] - 1s 650us/step - loss: 0.5387 - accuracy: 0.7382\n",
            "Epoch 47/100\n",
            "804/804 [==============================] - 1s 658us/step - loss: 0.5390 - accuracy: 0.7371\n",
            "Epoch 48/100\n",
            "804/804 [==============================] - 1s 650us/step - loss: 0.5390 - accuracy: 0.7382\n",
            "Epoch 49/100\n",
            "804/804 [==============================] - 1s 656us/step - loss: 0.5387 - accuracy: 0.7383\n",
            "Epoch 50/100\n",
            "804/804 [==============================] - 1s 670us/step - loss: 0.5382 - accuracy: 0.7379\n",
            "Epoch 51/100\n",
            "804/804 [==============================] - 1s 641us/step - loss: 0.5383 - accuracy: 0.7381\n",
            "Epoch 52/100\n",
            "804/804 [==============================] - 1s 648us/step - loss: 0.5383 - accuracy: 0.7383\n",
            "Epoch 53/100\n",
            "804/804 [==============================] - 1s 659us/step - loss: 0.5385 - accuracy: 0.7386\n",
            "Epoch 54/100\n",
            "804/804 [==============================] - 1s 654us/step - loss: 0.5383 - accuracy: 0.7388\n",
            "Epoch 55/100\n",
            "804/804 [==============================] - 1s 671us/step - loss: 0.5381 - accuracy: 0.7387\n",
            "Epoch 56/100\n",
            "804/804 [==============================] - 1s 651us/step - loss: 0.5382 - accuracy: 0.7382\n",
            "Epoch 57/100\n",
            "804/804 [==============================] - 1s 646us/step - loss: 0.5378 - accuracy: 0.7375\n",
            "Epoch 58/100\n",
            "804/804 [==============================] - 1s 658us/step - loss: 0.5372 - accuracy: 0.7389\n",
            "Epoch 59/100\n",
            "804/804 [==============================] - 1s 648us/step - loss: 0.5378 - accuracy: 0.7382\n",
            "Epoch 60/100\n",
            "804/804 [==============================] - 1s 666us/step - loss: 0.5376 - accuracy: 0.7375\n",
            "Epoch 61/100\n",
            "804/804 [==============================] - 1s 656us/step - loss: 0.5378 - accuracy: 0.7383\n",
            "Epoch 62/100\n",
            "804/804 [==============================] - 1s 653us/step - loss: 0.5376 - accuracy: 0.7396\n",
            "Epoch 63/100\n",
            "804/804 [==============================] - 1s 656us/step - loss: 0.5374 - accuracy: 0.7383\n",
            "Epoch 64/100\n",
            "804/804 [==============================] - 1s 653us/step - loss: 0.5371 - accuracy: 0.7395\n",
            "Epoch 65/100\n",
            "804/804 [==============================] - 1s 676us/step - loss: 0.5375 - accuracy: 0.7390\n",
            "Epoch 66/100\n",
            "804/804 [==============================] - 1s 658us/step - loss: 0.5371 - accuracy: 0.7389\n",
            "Epoch 67/100\n",
            "804/804 [==============================] - 1s 663us/step - loss: 0.5374 - accuracy: 0.7384\n",
            "Epoch 68/100\n",
            "804/804 [==============================] - 1s 664us/step - loss: 0.5370 - accuracy: 0.7384\n",
            "Epoch 69/100\n",
            "804/804 [==============================] - 1s 677us/step - loss: 0.5366 - accuracy: 0.7396\n",
            "Epoch 70/100\n",
            "804/804 [==============================] - 1s 677us/step - loss: 0.5368 - accuracy: 0.7389\n",
            "Epoch 71/100\n",
            "804/804 [==============================] - 1s 680us/step - loss: 0.5375 - accuracy: 0.7390\n",
            "Epoch 72/100\n",
            "804/804 [==============================] - 1s 675us/step - loss: 0.5372 - accuracy: 0.7381\n",
            "Epoch 73/100\n",
            "804/804 [==============================] - 1s 695us/step - loss: 0.5370 - accuracy: 0.7388\n",
            "Epoch 74/100\n",
            "804/804 [==============================] - 1s 666us/step - loss: 0.5367 - accuracy: 0.7397\n",
            "Epoch 75/100\n",
            "804/804 [==============================] - 1s 654us/step - loss: 0.5366 - accuracy: 0.7383\n",
            "Epoch 76/100\n",
            "804/804 [==============================] - 1s 700us/step - loss: 0.5363 - accuracy: 0.7391\n",
            "Epoch 77/100\n",
            "804/804 [==============================] - 1s 695us/step - loss: 0.5365 - accuracy: 0.7397\n",
            "Epoch 78/100\n",
            "804/804 [==============================] - 1s 697us/step - loss: 0.5363 - accuracy: 0.7396\n",
            "Epoch 79/100\n",
            "804/804 [==============================] - 1s 706us/step - loss: 0.5366 - accuracy: 0.7397\n",
            "Epoch 80/100\n",
            "804/804 [==============================] - 1s 704us/step - loss: 0.5366 - accuracy: 0.7392\n",
            "Epoch 81/100\n",
            "804/804 [==============================] - 1s 686us/step - loss: 0.5363 - accuracy: 0.7392\n",
            "Epoch 82/100\n",
            "804/804 [==============================] - 1s 660us/step - loss: 0.5363 - accuracy: 0.7391\n",
            "Epoch 83/100\n",
            "804/804 [==============================] - 1s 651us/step - loss: 0.5362 - accuracy: 0.7386\n",
            "Epoch 84/100\n",
            "804/804 [==============================] - 1s 685us/step - loss: 0.5362 - accuracy: 0.7393\n",
            "Epoch 85/100\n",
            "804/804 [==============================] - 1s 755us/step - loss: 0.5362 - accuracy: 0.7393\n",
            "Epoch 86/100\n",
            "804/804 [==============================] - 1s 698us/step - loss: 0.5362 - accuracy: 0.7392\n",
            "Epoch 87/100\n",
            "804/804 [==============================] - 1s 648us/step - loss: 0.5358 - accuracy: 0.7396\n",
            "Epoch 88/100\n",
            "804/804 [==============================] - 1s 682us/step - loss: 0.5359 - accuracy: 0.7388\n",
            "Epoch 89/100\n",
            "804/804 [==============================] - 1s 999us/step - loss: 0.5359 - accuracy: 0.7395\n",
            "Epoch 90/100\n",
            "804/804 [==============================] - 1s 1ms/step - loss: 0.5358 - accuracy: 0.7389\n",
            "Epoch 91/100\n",
            "804/804 [==============================] - 1s 909us/step - loss: 0.5358 - accuracy: 0.7396\n",
            "Epoch 92/100\n",
            "804/804 [==============================] - 1s 1ms/step - loss: 0.5361 - accuracy: 0.7390\n",
            "Epoch 93/100\n",
            "804/804 [==============================] - 1s 978us/step - loss: 0.5355 - accuracy: 0.7391\n",
            "Epoch 94/100\n",
            "804/804 [==============================] - 1s 983us/step - loss: 0.5355 - accuracy: 0.7394\n",
            "Epoch 95/100\n",
            "804/804 [==============================] - 1s 793us/step - loss: 0.5358 - accuracy: 0.7397\n",
            "Epoch 96/100\n",
            "804/804 [==============================] - 1s 700us/step - loss: 0.5356 - accuracy: 0.7395\n",
            "Epoch 97/100\n",
            "804/804 [==============================] - 1s 938us/step - loss: 0.5357 - accuracy: 0.7396\n",
            "Epoch 98/100\n",
            "804/804 [==============================] - 1s 845us/step - loss: 0.5354 - accuracy: 0.7404\n",
            "Epoch 99/100\n",
            "804/804 [==============================] - 1s 758us/step - loss: 0.5354 - accuracy: 0.7392\n",
            "Epoch 100/100\n",
            "804/804 [==============================] - 1s 769us/step - loss: 0.5354 - accuracy: 0.7386\n"
          ]
        }
      ],
      "source": [
        "# Train the model\n",
        "model = nn.fit(X_train_scaled, y_train, epochs=100)"
      ]
    },
    {
      "cell_type": "code",
      "execution_count": 15,
      "metadata": {
        "colab": {
          "base_uri": "https://localhost:8080/"
        },
        "id": "jHNK8nl-Rxhx",
        "outputId": "86eac1d4-49b5-4aaf-d24a-06364b951fdc"
      },
      "outputs": [
        {
          "name": "stdout",
          "output_type": "stream",
          "text": [
            "268/268 - 0s - loss: 0.5587 - accuracy: 0.7287 - 216ms/epoch - 805us/step\n",
            "Loss: 0.5586903095245361, Accuracy: 0.7287463545799255\n"
          ]
        }
      ],
      "source": [
        "# Evaluate the model using the test data\n",
        "model_loss, model_accuracy = nn.evaluate(X_test_scaled,y_test,verbose=2)\n",
        "print(f\"Loss: {model_loss}, Accuracy: {model_accuracy}\")"
      ]
    },
    {
      "cell_type": "code",
      "execution_count": 18,
      "metadata": {
        "id": "JjxCn3u_Rxhx"
      },
      "outputs": [],
      "source": [
        "# Export our model to HDF5 file\n",
        "nn.save(\"AlphabetSoupCharity.h5\")"
      ]
    }
  ],
  "metadata": {
    "colab": {
      "provenance": []
    },
    "kernelspec": {
      "display_name": "Python 3",
      "language": "python",
      "name": "python3"
    },
    "language_info": {
      "codemirror_mode": {
        "name": "ipython",
        "version": 3
      },
      "file_extension": ".py",
      "mimetype": "text/x-python",
      "name": "python",
      "nbconvert_exporter": "python",
      "pygments_lexer": "ipython3",
      "version": "3.7.12"
    },
    "vscode": {
      "interpreter": {
        "hash": "31f2aee4e71d21fbe5cf8b01ff0e069b9275f58929596ceb00d14d90e3e16cd6"
      }
    }
  },
  "nbformat": 4,
  "nbformat_minor": 0
}
